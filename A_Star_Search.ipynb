{
  "nbformat": 4,
  "nbformat_minor": 0,
  "metadata": {
    "colab": {
      "provenance": [],
      "authorship_tag": "ABX9TyMIQjQYL3XBGTfrGwtX42rj",
      "include_colab_link": true
    },
    "kernelspec": {
      "name": "python3",
      "display_name": "Python 3"
    },
    "language_info": {
      "name": "python"
    }
  },
  "cells": [
    {
      "cell_type": "markdown",
      "metadata": {
        "id": "view-in-github",
        "colab_type": "text"
      },
      "source": [
        "<a href=\"https://colab.research.google.com/github/LindseyShantanu/AI-ML-Dev/blob/main/A_Star_Search.ipynb\" target=\"_parent\"><img src=\"https://colab.research.google.com/assets/colab-badge.svg\" alt=\"Open In Colab\"/></a>"
      ]
    },
    {
      "cell_type": "markdown",
      "source": [
        "#Imports"
      ],
      "metadata": {
        "id": "A-hZ-JXCjpJd"
      }
    },
    {
      "cell_type": "code",
      "execution_count": null,
      "metadata": {
        "id": "vF3Bpu7uHiEJ"
      },
      "outputs": [],
      "source": [
        "import numpy as np\n",
        "import cv2\n",
        "import urllib\n",
        "import math\n",
        "from google.colab.patches import cv2_imshow"
      ]
    },
    {
      "cell_type": "markdown",
      "source": [
        "#Image Setup"
      ],
      "metadata": {
        "id": "ALbllshIjvjC"
      }
    },
    {
      "cell_type": "code",
      "source": [
        "url = \"https://drive.google.com/uc?export=download&id=14W621LeT1pWo6AiH3wywIqLT7k_IcZQQ\"\n",
        "data = urllib.request.urlopen(url)\n",
        "arr = np.asarray(bytearray(data.read()), dtype=np.uint8)\n",
        "img = cv2.imdecode(arr, cv2.IMREAD_GRAYSCALE)\n",
        "cv2_imshow(img)\n"
      ],
      "metadata": {
        "colab": {
          "base_uri": "https://localhost:8080/"
        },
        "id": "IT6MkYGeJVjS",
        "outputId": "cb34ef9f-29a3-4f96-a19a-3f2fa74d102a"
      },
      "execution_count": null,
      "outputs": [
        {
          "output_type": "display_data",
          "data": {
            "text/plain": [
              "<PIL.Image.Image image mode=L size=401x512 at 0x7F42B0DE5150>"
            ],
            "image/png": "[encoded data removed]"
          },
          "metadata": {}
        }
      ]
    },
    {
      "cell_type": "code",
      "source": [
        "np.set_printoptions(threshold=10000, linewidth=300)\n",
        "map = cv2.resize(img, (50,64))\n",
        "x, map = cv2.threshold(map, 10, 255, cv2.THRESH_BINARY)\n",
        "print(map)"
      ],
      "metadata": {
        "colab": {
          "base_uri": "https://localhost:8080/"
        },
        "id": "F5cIo15jMgU1",
        "outputId": "56c5fc51-f2be-484e-f317-5a7c9bce10ca"
      },
      "execution_count": null,
      "outputs": [
        {
          "output_type": "stream",
          "name": "stdout",
          "text": [
            "[[  0   0   0   0   0   0   0   0   0   0   0   0   0   0   0   0   0   0   0   0   0   0   0   0   0   0   0   0   0   0   0   0   0   0   0   0   0   0   0   0   0   0   0   0   0   0   0   0   0   0]\n",
            " [  0   0   0   0   0   0   0   0   0   0   0   0   0   0   0   0   0   0   0   0   0   0   0   0   0   0   0   0   0   0   0   0   0   0   0   0   0   0   0   0   0   0   0   0   0   0   0   0   0   0]\n",
            " [  0   0   0   0   0 255 255 255 255 255 255 255 255 255 255 255 255 255 255 255 255 255 255 255 255 255 255 255 255 255 255 255 255 255 255 255 255 255   0 255 255 255 255 255 255   0   0   0   0   0]\n",
            " [  0   0   0   0   0 255 255 255 255 255 255 255 255 255 255 255 255 255 255 255 255 255 255 255 255 255 255 255 255 255 255 255 255 255 255 255 255 255   0 255 255 255 255 255 255   0   0   0   0   0]\n",
            " [  0   0   0   0   0 255 255 255 255 255 255   0   0   0   0   0   0   0   0   0   0   0   0   0   0   0   0   0   0   0   0   0   0   0   0   0 255 255   0 255 255 255 255 255 255   0   0   0   0   0]\n",
            " [  0   0   0   0   0 255 255 255 255 255 255   0 255 255 255 255 255 255 255 255 255 255 255 255 255 255 255 255   0   0   0   0   0   0   0   0 255 255   0 255 255 255 255 255 255 255 255 255   0   0]\n",
            " [  0   0   0   0   0 255 255 255 255 255 255   0 255 255 255 255 255 255 255 255 255 255 255 255 255 255 255 255   0   0   0   0   0   0   0   0 255 255   0 255 255 255 255 255 255 255 255 255   0   0]\n",
            " [  0   0   0   0   0   0   0   0   0 255 255   0 255 255   0 255 255 255 255 255 255 255 255 255 255 255 255 255   0   0   0   0   0   0   0   0 255 255   0   0   0   0   0   0   0   0 255 255   0   0]\n",
            " [  0   0   0   0   0   0   0   0   0 255 255   0 255 255   0 255 255 255 255 255 255 255 255 255 255 255 255 255   0   0   0   0   0   0   0   0 255 255   0   0   0   0   0   0   0   0 255 255   0   0]\n",
            " [  0   0   0   0   0   0   0   0   0 255 255   0 255 255   0 255 255 255 255 255 255 255 255 255 255 255 255 255   0 255 255 255 255 255 255   0 255 255   0   0   0   0   0   0   0   0 255 255   0   0]\n",
            " [  0   0   0   0   0   0   0   0   0 255 255   0 255 255   0 255 255 255 255 255 255 255 255 255 255 255 255 255   0 255 255 255 255 255 255   0 255 255   0   0   0   0   0   0   0   0 255 255   0   0]\n",
            " [  0   0   0   0   0   0   0   0   0 255 255   0 255 255   0   0   0   0   0   0   0   0   0   0   0   0   0   0   0 255 255 255 255 255 255   0 255 255   0   0   0   0   0   0   0   0 255 255   0   0]\n",
            " [  0   0 255 255 255 255 255 255 255 255 255   0 255 255 255 255 255 255 255 255 255 255 255 255 255 255 255 255 255 255 255 255 255 255 255   0 255 255   0   0   0   0   0   0   0   0 255 255   0   0]\n",
            " [  0   0 255 255 255 255 255 255 255 255 255   0 255 255 255 255 255 255 255 255 255 255 255 255 255 255 255 255 255 255 255 255 255 255 255   0 255 255   0   0   0   0   0   0   0   0 255 255   0   0]\n",
            " [  0   0 255 255 255 255 255 255 255 255 255   0   0   0   0   0   0   0   0   0   0   0 255 255   0   0   0   0   0   0   0   0   0   0   0   0 255 255   0   0   0   0   0   0   0   0 255 255   0   0]\n",
            " [  0   0 255 255 255 255 255 255 255 255 255   0   0   0   0   0   0   0   0   0   0   0 255 255   0   0   0   0   0   0   0   0   0   0   0   0 255 255 255 255 255 255 255 255 255 255 255 255   0   0]\n",
            " [  0   0 255 255 255 255 255 255 255 255 255   0   0   0   0   0   0   0   0   0   0   0 255 255   0   0   0   0   0   0   0   0   0   0   0   0 255 255 255 255 255 255 255 255 255 255 255 255   0   0]\n",
            " [  0   0   0   0   0   0   0   0   0 255 255   0   0   0   0   0   0   0   0   0   0   0 255 255   0   0   0   0   0   0   0   0   0   0   0   0   0   0   0   0   0   0   0   0   0   0 255 255   0   0]\n",
            " [  0   0   0   0   0   0   0   0   0 255 255   0   0   0   0   0   0   0   0   0   0   0 255 255   0   0   0   0   0   0   0   0   0   0   0   0   0   0   0   0   0   0   0   0   0   0 255 255   0   0]\n",
            " [  0   0 255 255 255 255 255 255 255 255 255 255 255 255 255 255 255   0   0 255 255 255 255 255 255 255 255 255 255 255 255   0   0 255 255 255 255 255 255 255 255 255 255 255 255   0 255 255   0   0]\n",
            " [  0   0 255 255 255 255 255 255 255 255 255 255 255 255 255 255 255   0   0 255 255 255 255 255 255 255 255 255 255 255 255   0   0 255 255 255 255 255 255 255 255 255 255 255 255   0 255 255   0   0]\n",
            " [  0   0 255 255   0 255 255 255 255 255 255 255 255 255 255 255 255   0   0 255 255 255 255 255 255 255 255 255 255 255 255   0   0 255 255 255 255 255 255 255 255 255 255 255 255   0 255 255   0   0]\n",
            " [  0   0 255 255   0 255 255 255 255 255 255 255 255 255 255 255 255   0   0 255 255 255 255 255 255 255 255 255 255 255 255   0   0 255 255 255 255 255 255 255 255 255 255 255 255   0 255 255   0   0]\n",
            " [  0   0 255 255   0 255 255 255 255 255 255 255 255 255 255 255 255   0   0 255 255 255 255 255 255 255 255 255 255 255 255   0   0 255 255 255 255 255 255 255 255 255 255 255 255   0 255 255   0   0]\n",
            " [  0   0 255 255   0 255 255 255 255 255 255 255 255 255 255 255 255   0   0 255 255 255 255 255 255 255 255 255 255 255 255   0   0 255 255 255 255 255 255 255 255 255 255 255 255   0 255 255   0   0]\n",
            " [  0   0 255 255   0 255 255 255 255 255 255 255 255 255 255 255 255   0   0 255 255 255 255 255 255 255 255 255 255 255 255   0   0 255 255 255 255 255 255 255 255 255 255 255 255   0 255 255   0   0]\n",
            " [  0   0 255 255 255 255 255 255 255 255 255 255 255 255 255 255 255 255 255 255 255 255 255 255 255 255 255 255 255 255 255   0   0 255 255 255 255 255 255 255 255 255 255 255 255   0 255 255   0   0]\n",
            " [  0   0 255 255 255 255 255 255 255 255 255 255 255 255 255 255 255 255 255 255 255 255 255 255 255 255 255 255 255 255 255   0   0 255 255 255 255 255 255 255 255 255 255 255 255   0 255 255   0   0]\n",
            " [  0   0   0   0   0 255 255 255 255 255 255 255 255 255 255 255 255   0   0 255 255 255 255 255 255 255 255 255 255 255 255   0   0 255 255 255 255 255 255 255 255 255 255 255 255   0 255 255   0   0]\n",
            " [  0   0 255 255 255 255 255 255 255 255 255 255 255 255 255 255 255   0   0 255 255 255 255 255 255 255 255 255 255 255 255 255 255 255 255 255 255 255 255 255 255 255 255 255 255   0 255 255   0   0]\n",
            " [  0   0 255 255 255 255 255 255 255 255 255 255 255 255 255 255 255   0   0 255 255 255 255 255 255 255 255 255 255 255 255 255 255 255 255 255 255 255 255 255 255 255 255 255 255   0 255 255   0   0]\n",
            " [  0   0 255 255   0   0   0   0   0   0   0   0 255 255   0   0   0   0   0   0   0   0 255 255   0   0   0   0   0   0   0   0   0   0   0   0   0   0   0   0   0   0   0 255 255   0 255 255   0   0]\n",
            " [  0   0 255 255   0   0   0   0   0   0   0   0 255 255   0   0   0   0   0   0   0   0 255 255   0   0   0   0   0   0   0   0   0   0   0   0   0   0   0   0   0   0   0 255 255   0 255 255   0   0]\n",
            " [  0   0 255 255   0   0   0   0   0   0   0   0 255 255 255 255 255   0   0 255 255 255 255 255 255 255 255 255 255 255 255   0   0 255 255 255 255 255 255 255 255 255 255 255 255   0 255 255   0   0]\n",
            " [  0   0 255 255   0   0   0   0   0   0   0   0 255 255 255 255 255   0   0 255 255 255 255 255 255 255 255 255 255 255 255   0   0 255 255 255 255 255 255 255 255 255 255 255 255   0 255 255   0   0]\n",
            " [  0   0 255 255   0   0   0   0   0   0   0   0 255 255 255 255 255   0   0 255 255 255 255 255 255 255 255 255 255 255 255   0   0 255 255 255 255 255   0   0   0   0   0   0   0   0 255 255   0   0]\n",
            " [  0   0 255 255 255 255 255 255 255 255 255   0 255 255 255 255 255 255 255 255 255 255 255 255 255 255 255 255 255 255 255 255 255 255 255 255 255 255 255 255 255 255 255 255 255 255 255 255   0   0]\n",
            " [  0   0 255 255 255 255 255 255 255 255 255   0 255 255 255 255 255 255 255 255 255 255 255 255 255 255 255 255 255 255 255 255 255 255 255 255 255 255 255 255 255 255 255 255 255 255 255 255   0   0]\n",
            " [  0   0   0   0   0   0   0   0   0 255 255   0   0   0   0   0   0   0   0 255 255 255 255 255 255 255 255 255 255 255 255   0   0   0   0   0   0   0   0   0   0   0   0   0   0   0   0   0   0   0]\n",
            " [  0   0   0   0   0   0   0   0   0 255 255   0   0   0   0   0   0   0   0 255 255 255 255 255 255 255 255 255 255 255 255   0   0   0   0   0   0   0   0   0   0   0   0   0   0   0   0   0   0   0]\n",
            " [  0   0 255 255 255 255 255 255 255 255 255 255 255 255 255 255 255 255 255 255 255 255 255 255 255 255 255 255 255 255 255   0   0 255 255 255 255 255   0   0   0   0   0 255 255 255 255 255   0   0]\n",
            " [  0   0 255 255 255 255 255 255 255 255 255 255 255 255 255 255 255 255 255 255 255 255 255 255 255 255 255 255 255 255 255   0   0 255 255 255 255 255   0   0   0   0   0 255 255 255 255 255   0   0]\n",
            " [  0   0 255 255 255 255 255 255 255 255 255 255 255 255   0   0   0   0   0 255 255 255 255 255 255 255 255 255 255 255 255   0   0 255 255 255 255 255   0   0   0   0   0 255 255 255 255 255   0   0]\n",
            " [  0   0 255 255 255 255 255 255 255 255 255 255 255 255   0   0   0   0   0 255 255 255 255 255 255 255 255 255 255 255 255   0   0 255 255 255 255 255 255 255 255 255 255 255 255 255 255 255   0   0]\n",
            " [  0   0 255 255 255 255 255 255 255 255 255 255 255 255   0   0   0   0   0 255 255 255 255 255 255 255 255 255 255 255 255   0   0 255 255 255 255 255 255 255 255 255 255 255 255 255 255 255   0   0]\n",
            " [  0   0   0   0   0 255 255   0   0   0   0   0   0   0   0   0   0   0   0   0   0   0   0   0   0   0   0   0   0 255 255   0   0   0   0   0 255 255   0   0   0   0   0 255 255   0   0   0   0   0]\n",
            " [  0   0   0   0   0 255 255   0   0   0   0   0   0   0   0   0   0   0   0   0   0   0   0   0   0   0   0   0   0 255 255   0   0   0   0   0 255 255   0   0   0   0   0 255 255   0   0   0   0   0]\n",
            " [  0   0 255 255 255 255 255 255 255 255 255 255 255 255 255 255 255 255 255 255 255 255 255 255 255 255 255 255 255 255 255   0   0 255 255 255 255 255 255 255 255 255 255 255 255   0   0   0   0   0]\n",
            " [  0   0 255 255 255 255 255 255 255 255 255 255 255 255 255 255 255 255 255 255 255 255 255 255 255 255 255 255 255 255 255   0   0 255 255 255 255 255 255 255 255 255 255 255 255   0   0   0   0   0]\n",
            " [  0   0 255 255   0 255 255 255 255 255 255 255 255 255 255 255 255   0   0 255 255 255 255 255 255 255 255 255 255 255 255   0   0 255 255 255 255 255 255 255 255 255 255 255 255   0   0   0   0   0]\n",
            " [  0   0 255 255   0 255 255 255 255 255 255 255 255 255 255 255 255   0   0 255 255 255 255 255 255 255 255 255 255 255 255   0   0 255 255 255 255 255 255 255 255 255 255 255 255   0   0   0   0   0]\n",
            " [  0   0 255 255   0 255 255 255 255 255 255 255 255 255 255 255 255   0   0 255 255 255 255 255 255 255 255 255 255 255 255   0   0 255 255 255 255 255 255 255 255 255 255 255 255   0   0   0   0   0]\n",
            " [  0   0 255 255   0 255 255 255 255 255 255 255 255 255 255 255 255   0   0 255 255 255 255 255 255 255 255 255 255 255 255   0   0 255 255 255 255 255 255 255 255 255 255 255 255   0   0   0   0   0]\n",
            " [  0   0 255 255   0 255 255 255 255 255 255 255 255 255 255 255 255   0   0 255 255 255 255 255 255 255 255 255 255 255 255   0   0 255 255 255 255 255 255 255 255 255 255 255 255   0   0   0   0   0]\n",
            " [  0   0 255 255   0 255 255 255 255 255 255 255 255 255 255 255 255   0   0 255 255 255 255 255 255 255 255 255 255 255 255   0   0 255 255 255 255 255 255 255 255 255 255 255 255   0   0   0   0   0]\n",
            " [  0   0 255 255   0 255 255 255 255 255 255 255 255 255 255 255 255   0   0 255 255 255 255 255 255 255 255 255 255 255 255   0   0 255 255 255 255 255 255 255 255 255 255 255 255   0   0   0   0   0]\n",
            " [  0   0 255 255   0 255 255 255 255 255 255 255 255 255 255 255 255   0   0 255 255 255 255 255 255 255 255 255 255 255 255   0   0 255 255 255 255 255 255 255 255 255 255 255 255   0   0   0   0   0]\n",
            " [  0   0 255 255   0 255 255 255 255 255 255 255 255 255 255 255 255   0   0 255 255 255 255 255 255 255 255 255 255 255 255   0   0 255 255 255 255 255 255 255 255 255 255 255 255 255 255 255   0   0]\n",
            " [  0   0 255 255   0 255 255 255 255 255 255 255 255 255 255 255 255   0   0 255 255 255 255 255 255 255 255 255 255 255 255   0   0 255 255 255 255 255 255 255 255 255 255 255 255 255 255 255   0   0]\n",
            " [  0   0 255 255   0   0   0   0   0   0   0   0   0   0   0   0   0   0   0 255 255   0 255 255   0   0   0   0   0   0   0   0   0   0   0   0   0   0   0   0   0   0   0   0   0   0 255 255   0   0]\n",
            " [  0   0 255 255 255 255 255 255 255 255 255 255 255 255 255 255 255 255 255 255 255 255 255 255 255 255 255 255 255 255 255 255 255 255 255 255 255 255 255 255 255 255 255 255 255 255 255 255   0   0]\n",
            " [  0   0 255 255 255 255 255 255 255 255 255 255 255 255 255 255 255 255 255 255 255 255 255 255 255 255 255 255 255 255 255 255 255 255 255 255 255 255 255 255 255 255 255 255 255 255 255 255   0   0]\n",
            " [  0   0   0   0   0   0   0   0   0   0   0   0   0   0   0   0   0   0   0   0   0   0   0   0   0   0   0   0   0   0   0   0   0   0   0   0   0   0   0   0   0   0   0   0   0   0   0   0   0   0]\n",
            " [  0   0   0   0   0   0   0   0   0   0   0   0   0   0   0   0   0   0   0   0   0   0   0   0   0   0   0   0   0   0   0   0   0   0   0   0   0   0   0   0   0   0   0   0   0   0   0   0   0   0]]\n"
          ]
        }
      ]
    },
    {
      "cell_type": "markdown",
      "source": [
        "#Cost Functions"
      ],
      "metadata": {
        "id": "phEaVus6kFzJ"
      }
    },
    {
      "cell_type": "markdown",
      "source": [
        "\n",
        "As we saw in the previous A* implementation, we need a heuristic to calculate the cost to move from one square to another. The cost function is:\n",
        "\n",
        "$f(n)=g(n)+h(n)$\n",
        "\n",
        "There are multiple ways for us to calculate distance in our cost function. The main goal is that we want a distance calculation that is accurate and will not exceed the actual distance to travel from one square to another on the grid. There are three formulas we can use: Euclidean, Manhattan, and Octile distance.\n",
        "\n",
        "###Euclidean distance\n",
        "The Euclidean distance formula should be familiar to anyone who has taken geometry:\n",
        "\n",
        "$A^2+B^2=C^2$\n",
        "\n",
        "On a coordinate grid, we can rewrite this as\n",
        "\n",
        "$(x1−x2)^2+(y1−y2)^2=distance^2$\n",
        "\n",
        "This gives us the direct line distance from one square to another on our grid.\n",
        "\n",
        "###Manhattan distance\n",
        "Manhattan distance assumes only horizontal and vertical movement and can be calculated with the following formula:\n",
        "\n",
        "$|x1−x2|+|y1−y2|=distance$\n",
        "\n",
        "This formula will provide a more accurate distance measurement if our agent can only move in four directions.\n",
        "\n",
        "###Octile distance\n",
        "Octile distance is a variation of Manhattan distance that allows for eight directions of movement instead of four. For our simple grid, this can be calculated as follows:\n",
        "$|x1−x2|+|y1−y2|+(√(2)−2)∗minimum|x1−x2|or|y1−y2|$"
      ],
      "metadata": {
        "id": "40mZoShPO61A"
      }
    },
    {
      "cell_type": "code",
      "source": [
        "def ManhattanDist(pos1, pos2):\n",
        "  return abs(pos1[0] - pos2[0]) + abs(pos1[1] - pos2[1])\n",
        "\n",
        "def EuclideanDist(pos1, pos2):\n",
        "  return math.sqrt((pos1[0] - pos2[0])**2 + (pos1[1] - pos2[1])**2)\n",
        "\n",
        "def OctileDist(pos1, pos2):\n",
        "  dx = abs(pos1[0] - pos2[0])\n",
        "  dy = abs(pos1[1] - pos2[1])\n",
        "  return (dx + dy) + (math.sqrt(2) - 2) * min(dx, dy)"
      ],
      "metadata": {
        "id": "bNR7xvH-NMan"
      },
      "execution_count": null,
      "outputs": []
    },
    {
      "cell_type": "markdown",
      "source": [
        "#A*Algorithm\n"
      ],
      "metadata": {
        "id": "v7Vu0DKNj6CX"
      }
    },
    {
      "cell_type": "code",
      "source": [
        "def AStarSearch(map, start, goal, costFunc):\n",
        "    seen = [start]\n",
        "    gn = {str(start):0}\n",
        "    parent = {str(start): None}\n",
        "\n",
        "\n",
        "    while seen:\n",
        "        current = []\n",
        "        current_f = float('inf')\n",
        "        for node in seen:\n",
        "            if gn[str(node)] + costFunc(node, goal) < current_f:\n",
        "                current = node\n",
        "                current_f = gn[str(node)] + costFunc(node, goal)\n",
        "        seen.remove(current)\n",
        "\n",
        "        if current == goal:\n",
        "            path = [goal]\n",
        "            map[goal[1]][goal[0]] = 99\n",
        "            node = str(goal)\n",
        "            while node != str(start):\n",
        "                path.append(parent[node])\n",
        "                map[parent[node][1]][parent[node][0]] = 99\n",
        "                node = str(parent[node])\n",
        "            path.reverse()\n",
        "\n",
        "            return gn[str(goal)]\n",
        "\n",
        "        for y in range(-1, 2, 1):\n",
        "            for x in range(-1, 2, 1):\n",
        "                xp = current[0] + x\n",
        "                yp = current[1] + y\n",
        "                if (yp < map.shape[0] and yp > 0) and (xp < map.shape[1] and xp > 0) and map[yp][xp] != 0:\n",
        "                    neighbor_g = 0\n",
        "                    if x == 0 or y == 0:\n",
        "                        neighbor_g = gn[str(current)] + 1\n",
        "                    else:\n",
        "                        neighbor_g = gn[str(current)] + math.sqrt(2)\n",
        "                    if str([xp, yp]) not in gn.keys() or gn[str([xp, yp])] > neighbor_g:\n",
        "                        gn[str([xp, yp])] = neighbor_g\n",
        "                        parent[str([xp, yp])] = current\n",
        "                        if [xp, yp] not in seen:\n",
        "                            seen.append([xp, yp])\n",
        "\n",
        "    return None"
      ],
      "metadata": {
        "id": "_gxytKROQx5z"
      },
      "execution_count": null,
      "outputs": []
    },
    {
      "cell_type": "markdown",
      "source": [
        "#Execute"
      ],
      "metadata": {
        "id": "pzXawJI4kglK"
      }
    },
    {
      "cell_type": "code",
      "source": [
        "start = [10, 25]\n",
        "goal = [45, 42]\n",
        "path = AStarSearch(map, start, goal, ManhattanDist)\n",
        "print(path)\n",
        "map = cv2.resize(map, (500,640), interpolation=0)\n",
        "cv2_imshow(map)"
      ],
      "metadata": {
        "colab": {
          "base_uri": "https://localhost:8080/",
          "height": 674
        },
        "id": "wYBkWQYhYywj",
        "outputId": "10889e5e-0376-404b-ea82-20e7a3df34df"
      },
      "execution_count": null,
      "outputs": [
        {
          "output_type": "stream",
          "name": "stdout",
          "text": [
            "88.18376618407355\n"
          ]
        },
        {
          "output_type": "display_data",
          "data": {
            "text/plain": [
              "<PIL.Image.Image image mode=L size=500x640 at 0x7F42B0DE50C0>"
            ],
            "image/png": "[encoded data removed]"
          },
          "metadata": {}
        }
      ]
    }
  ]
}